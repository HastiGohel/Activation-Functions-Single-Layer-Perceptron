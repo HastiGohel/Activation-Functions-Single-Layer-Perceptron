{
 "cells": [
  {
   "cell_type": "code",
   "execution_count": 9,
   "id": "3ff686bc-687e-4365-b6e7-515ba7864645",
   "metadata": {},
   "outputs": [],
   "source": [
    "import pandas as pd\n",
    "import numpy as np\n",
    "import matplotlib.pyplot as plt\n",
    "from sklearn.linear_model import LogisticRegression\n",
    "from sklearn.model_selection import train_test_split\n",
    "from sklearn.metrics import accuracy_score, confusion_matrix, classification_report\n",
    "from tensorflow.keras.models import Sequential\n",
    "from tensorflow.keras.layers import Dense\n",
    "import warnings\n",
    "warnings.filterwarnings('ignore')"
   ]
  },
  {
   "cell_type": "markdown",
   "id": "31d8b428-3cf2-4d1b-9c93-4009683bd266",
   "metadata": {},
   "source": [
    "## Dataset Option 1 (Use Your Own Toy Dataset):\n",
    "- Based on your class example of predicting whether a student will pass or fail:\n",
    "- Features:\n",
    "    - Hours of Study\n",
    "    - Sleep Hours\n",
    "- Label:\n",
    "    - 0 (Fail)\n",
    "    - 1 (Pass)"
   ]
  },
  {
   "cell_type": "code",
   "execution_count": 2,
   "id": "1b78361a-ce03-416c-aa72-d55332935224",
   "metadata": {},
   "outputs": [
    {
     "name": "stdout",
     "output_type": "stream",
     "text": [
      "Accuracy: 1.0\n",
      "Confusion Matrix:\n",
      " [[1 0]\n",
      " [0 1]]\n",
      "Classification Report:\n",
      "               precision    recall  f1-score   support\n",
      "\n",
      "           0       1.00      1.00      1.00         1\n",
      "           1       1.00      1.00      1.00         1\n",
      "\n",
      "    accuracy                           1.00         2\n",
      "   macro avg       1.00      1.00      1.00         2\n",
      "weighted avg       1.00      1.00      1.00         2\n",
      "\n"
     ]
    },
    {
     "data": {
      "image/png": "[encoded data removed]",
      "text/plain": [
       "<Figure size 800x500 with 1 Axes>"
      ]
     },
     "metadata": {},
     "output_type": "display_data"
    }
   ],
   "source": [
    "data = {\n",
    "    'Hours_of_Study': [1, 2, 3, 4, 5, 6, 2, 3, 7, 8],\n",
    "    'Sleep_Hours':    [4, 5, 6, 5, 6, 7, 8, 4, 5, 6],\n",
    "    'Label':          [0, 0, 0, 1, 1, 1, 0, 0, 1, 1]\n",
    "}\n",
    "\n",
    "df = pd.DataFrame(data)\n",
    "\n",
    "X = df[['Hours_of_Study', 'Sleep_Hours']]\n",
    "y = df['Label']\n",
    "\n",
    "X_train, X_test, y_train, y_test = train_test_split(X, y, test_size=0.2, random_state=42)\n",
    "\n",
    "model = LogisticRegression()\n",
    "model.fit(X_train, y_train)\n",
    "\n",
    "y_pred = model.predict(X_test)\n",
    "\n",
    "print(\"Accuracy:\", accuracy_score(y_test, y_pred))\n",
    "print(\"Confusion Matrix:\\n\", confusion_matrix(y_test, y_pred))\n",
    "print(\"Classification Report:\\n\", classification_report(y_test, y_pred))\n",
    "\n",
    "plt.figure(figsize=(8, 5))\n",
    "colors = ['red' if label == 0 else 'green' for label in y]\n",
    "plt.scatter(df['Hours_of_Study'], df['Sleep_Hours'], c=colors, label='Students')\n",
    "plt.xlabel('Hours of Study')\n",
    "plt.ylabel('Sleep Hours')\n",
    "plt.title('Pass (Green) vs Fail (Red)')\n",
    "plt.grid(True)\n",
    "plt.show()"
   ]
  },
  {
   "cell_type": "markdown",
   "id": "ddb44067-1894-4670-96ac-9e6a471ec561",
   "metadata": {},
   "source": [
    "## Dataset Option 2 (Kaggle Dataset):\n",
    "- You can select just two features such as:\n",
    "    - math score\n",
    "    - reading score\n",
    "    - And label students as pass (1) or fail (0) based on a threshold.\n",
    "### Tasks\n",
    "### Q1. Import required libraries\n",
    "- Use: numpy, pandas, tensorflow, matplotlib"
   ]
  },
  {
   "cell_type": "code",
   "execution_count": 5,
   "id": "f6b6c0c8-7e11-4bfb-9ab2-2d44b2e10fd5",
   "metadata": {},
   "outputs": [
    {
     "data": {
      "text/plain": [
       "Index(['gender', 'race/ethnicity', 'parental level of education', 'lunch',\n",
       "       'test preparation course', 'math score', 'reading score',\n",
       "       'writing score'],\n",
       "      dtype='object')"
      ]
     },
     "execution_count": 5,
     "metadata": {},
     "output_type": "execute_result"
    }
   ],
   "source": [
    "df1 = pd.read_csv('StudentsPerformance.csv')\n",
    "df1.columns"
   ]
  },
  {
   "cell_type": "markdown",
   "id": "46c589c0-0eeb-4460-a8c2-92170cd9cd66",
   "metadata": {},
   "source": [
    "### Q2. Create your input features (X) and output labels (y)\n",
    "- Use either your own toy dataset or the Kaggle dataset."
   ]
  },
  {
   "cell_type": "code",
   "execution_count": 6,
   "id": "899c22d7-3d2e-4c09-8703-e61b779083cf",
   "metadata": {},
   "outputs": [],
   "source": [
    "X = df1[['math score', 'reading score']]\n",
    "\n",
    "y = ((df1['math score'] >= 50) & (df1['reading score'] >= 50)).astype(int)"
   ]
  },
  {
   "cell_type": "markdown",
   "id": "dfc94e07-f646-4844-b7f7-53c4b0666d4e",
   "metadata": {},
   "source": [
    "### Q3. Build a Single Layer Perceptron using Keras Sequential API\n",
    "- Use:\n",
    "  - 1 output layer\n",
    "  - Sigmoid activation\n",
    "  - input_dim=2 if two features are used\n",
    "  - model = Sequential() model.add(Dense(1, activation='sigmoid', input_dim=2))"
   ]
  },
  {
   "cell_type": "code",
   "execution_count": 10,
   "id": "975d81d2-6b34-49c7-b5ec-220e75b3247d",
   "metadata": {},
   "outputs": [
    {
     "data": {
      "text/html": [
       "<pre style=\"white-space:pre;overflow-x:auto;line-height:normal;font-family:Menlo,'DejaVu Sans Mono',consolas,'Courier New',monospace\"><span style=\"font-weight: bold\">Model: \"sequential_1\"</span>\n",
       "</pre>\n"
      ],
      "text/plain": [
       "\u001b[1mModel: \"sequential_1\"\u001b[0m\n"
      ]
     },
     "metadata": {},
     "output_type": "display_data"
    },
    {
     "data": {
      "text/html": [
       "<pre style=\"white-space:pre;overflow-x:auto;line-height:normal;font-family:Menlo,'DejaVu Sans Mono',consolas,'Courier New',monospace\">┏━━━━━━━━━━━━━━━━━━━━━━━━━━━━━━━━━┳━━━━━━━━━━━━━━━━━━━━━━━━┳━━━━━━━━━━━━━━━┓\n",
       "┃<span style=\"font-weight: bold\"> Layer (type)                    </span>┃<span style=\"font-weight: bold\"> Output Shape           </span>┃<span style=\"font-weight: bold\">       Param # </span>┃\n",
       "┡━━━━━━━━━━━━━━━━━━━━━━━━━━━━━━━━━╇━━━━━━━━━━━━━━━━━━━━━━━━╇━━━━━━━━━━━━━━━┩\n",
       "│ dense_1 (<span style=\"color: #0087ff; text-decoration-color: #0087ff\">Dense</span>)                 │ (<span style=\"color: #00d7ff; text-decoration-color: #00d7ff\">None</span>, <span style=\"color: #00af00; text-decoration-color: #00af00\">1</span>)              │             <span style=\"color: #00af00; text-decoration-color: #00af00\">3</span> │\n",
       "└─────────────────────────────────┴────────────────────────┴───────────────┘\n",
       "</pre>\n"
      ],
      "text/plain": [
       "┏━━━━━━━━━━━━━━━━━━━━━━━━━━━━━━━━━┳━━━━━━━━━━━━━━━━━━━━━━━━┳━━━━━━━━━━━━━━━┓\n",
       "┃\u001b[1m \u001b[0m\u001b[1mLayer (type)                   \u001b[0m\u001b[1m \u001b[0m┃\u001b[1m \u001b[0m\u001b[1mOutput Shape          \u001b[0m\u001b[1m \u001b[0m┃\u001b[1m \u001b[0m\u001b[1m      Param #\u001b[0m\u001b[1m \u001b[0m┃\n",
       "┡━━━━━━━━━━━━━━━━━━━━━━━━━━━━━━━━━╇━━━━━━━━━━━━━━━━━━━━━━━━╇━━━━━━━━━━━━━━━┩\n",
       "│ dense_1 (\u001b[38;5;33mDense\u001b[0m)                 │ (\u001b[38;5;45mNone\u001b[0m, \u001b[38;5;34m1\u001b[0m)              │             \u001b[38;5;34m3\u001b[0m │\n",
       "└─────────────────────────────────┴────────────────────────┴───────────────┘\n"
      ]
     },
     "metadata": {},
     "output_type": "display_data"
    },
    {
     "data": {
      "text/html": [
       "<pre style=\"white-space:pre;overflow-x:auto;line-height:normal;font-family:Menlo,'DejaVu Sans Mono',consolas,'Courier New',monospace\"><span style=\"font-weight: bold\"> Total params: </span><span style=\"color: #00af00; text-decoration-color: #00af00\">3</span> (12.00 B)\n",
       "</pre>\n"
      ],
      "text/plain": [
       "\u001b[1m Total params: \u001b[0m\u001b[38;5;34m3\u001b[0m (12.00 B)\n"
      ]
     },
     "metadata": {},
     "output_type": "display_data"
    },
    {
     "data": {
      "text/html": [
       "<pre style=\"white-space:pre;overflow-x:auto;line-height:normal;font-family:Menlo,'DejaVu Sans Mono',consolas,'Courier New',monospace\"><span style=\"font-weight: bold\"> Trainable params: </span><span style=\"color: #00af00; text-decoration-color: #00af00\">3</span> (12.00 B)\n",
       "</pre>\n"
      ],
      "text/plain": [
       "\u001b[1m Trainable params: \u001b[0m\u001b[38;5;34m3\u001b[0m (12.00 B)\n"
      ]
     },
     "metadata": {},
     "output_type": "display_data"
    },
    {
     "data": {
      "text/html": [
       "<pre style=\"white-space:pre;overflow-x:auto;line-height:normal;font-family:Menlo,'DejaVu Sans Mono',consolas,'Courier New',monospace\"><span style=\"font-weight: bold\"> Non-trainable params: </span><span style=\"color: #00af00; text-decoration-color: #00af00\">0</span> (0.00 B)\n",
       "</pre>\n"
      ],
      "text/plain": [
       "\u001b[1m Non-trainable params: \u001b[0m\u001b[38;5;34m0\u001b[0m (0.00 B)\n"
      ]
     },
     "metadata": {},
     "output_type": "display_data"
    }
   ],
   "source": [
    "model = Sequential()\n",
    "model.add(Dense(1, activation='sigmoid', input_dim=2))\n",
    "\n",
    "model.summary()"
   ]
  },
  {
   "cell_type": "markdown",
   "id": "8bee9058-5e40-4882-b129-e51a8907d3a9",
   "metadata": {},
   "source": [
    "### Q4. Compile the model Use:\n",
    "- Optimizer: adam\n",
    "- Loss: binary_crossentropy\n",
    "- Metrics: accuracy"
   ]
  },
  {
   "cell_type": "code",
   "execution_count": 11,
   "id": "01b379fc-2696-4585-99fc-899b15f7637e",
   "metadata": {},
   "outputs": [],
   "source": [
    "model.compile(optimizer='adam',\n",
    "              loss='binary_crossentropy',\n",
    "              metrics=['accuracy'])"
   ]
  },
  {
   "cell_type": "markdown",
   "id": "7d050705-b28d-4c19-9c9f-19b990beaa15",
   "metadata": {},
   "source": [
    "### Q5. Train the model for 10–15 epochs\n",
    "- model.fit(X, y, epochs=15, verbose=0)"
   ]
  },
  {
   "cell_type": "code",
   "execution_count": 12,
   "id": "65c3f973-b09d-42e5-9852-3500da01f591",
   "metadata": {},
   "outputs": [
    {
     "name": "stdout",
     "output_type": "stream",
     "text": [
      "Model training completed.\n"
     ]
    }
   ],
   "source": [
    "model.fit(X, y, epochs=15, verbose=0)\n",
    "print(\"Model training completed.\")"
   ]
  },
  {
   "cell_type": "markdown",
   "id": "bdc8d7a7-2c8d-4041-a8f5-ec426968d27e",
   "metadata": {},
   "source": [
    "### Q6. Test the model on a few new data points Create a few input samples and predict their output using:\n",
    "- model.predict(new_data)"
   ]
  },
  {
   "cell_type": "code",
   "execution_count": 14,
   "id": "e2871c6c-7d01-428f-a658-a4ad71f0fe15",
   "metadata": {},
   "outputs": [
    {
     "name": "stdout",
     "output_type": "stream",
     "text": [
      "\u001b[1m1/1\u001b[0m \u001b[32m━━━━━━━━━━━━━━━━━━━━\u001b[0m\u001b[37m\u001b[0m \u001b[1m0s\u001b[0m 79ms/step\n",
      "Student 1: Predicted Probability = 1.00 → Class = 1\n",
      "Student 2: Predicted Probability = 1.00 → Class = 1\n",
      "Student 3: Predicted Probability = 1.00 → Class = 1\n",
      "Student 4: Predicted Probability = 0.96 → Class = 1\n",
      "Student 5: Predicted Probability = 1.00 → Class = 1\n"
     ]
    }
   ],
   "source": [
    "import numpy as np\n",
    "new_data = np.array([\n",
    "    [55, 60],   # Likely Pass\n",
    "    [40, 45],   # Likely Fail\n",
    "    [70, 80],   # Likely Pass\n",
    "    [50, 49],   # Borderline (Fail)\n",
    "    [30, 70]    # Possibly Fail\n",
    "])\n",
    "\n",
    "predictions = model.predict(new_data)\n",
    "\n",
    "for i, prob in enumerate(predictions):\n",
    "    label = int(prob >= 0.5) \n",
    "    print(f\"Student {i+1}: Predicted Probability = {prob[0]:.2f} → Class = {label}\")"
   ]
  },
  {
   "cell_type": "markdown",
   "id": "a5ff915b-716e-4f3a-9748-338116b46d2d",
   "metadata": {},
   "source": [
    "### Q7. Optional Bonus – Visualize Activation Functions Plot the graphs for:\n",
    "- Sigmoid Tanh ReLU\n",
    "- Use numpy and matplotlib to visualize them."
   ]
  },
  {
   "cell_type": "code",
   "execution_count": 16,
   "id": "316ab1d6-c49a-49a0-8435-72b02df15d73",
   "metadata": {},
   "outputs": [
    {
     "data": {
      "image/png": "[encoded data removed]",
      "text/plain": [
       "<Figure size 1000x600 with 1 Axes>"
      ]
     },
     "metadata": {},
     "output_type": "display_data"
    }
   ],
   "source": [
    "import numpy as np\n",
    "import matplotlib.pyplot as plt\n",
    "x = np.linspace(-10, 10, 100)\n",
    "\n",
    "sigmoid = 1 / (1 + np.exp(-x))\n",
    "tanh = np.tanh(x)\n",
    "relu = np.maximum(0, x)\n",
    "plt.figure(figsize=(10, 6))\n",
    "\n",
    "plt.plot(x, sigmoid, label='Sigmoid', color='blue')\n",
    "\n",
    "plt.plot(x, tanh, label='Tanh', color='green')\n",
    "\n",
    "plt.plot(x, relu, label='ReLU', color='red')\n",
    "\n",
    "plt.title('Activation Functions: Sigmoid, Tanh, ReLU')\n",
    "plt.xlabel('Input')\n",
    "plt.ylabel('Output')\n",
    "plt.grid(True)\n",
    "plt.legend()\n",
    "plt.axhline(0, color='black', linewidth=0.5)\n",
    "plt.axvline(0, color='black', linewidth=0.5)\n",
    "plt.show()"
   ]
  },
  {
   "cell_type": "code",
   "execution_count": null,
   "id": "3c1a94eb-6cbd-4e3b-8fbb-17d45d284a81",
   "metadata": {},
   "outputs": [],
   "source": []
  }
 ],
 "metadata": {
  "kernelspec": {
   "display_name": "Python 3 (ipykernel)",
   "language": "python",
   "name": "python3"
  },
  "language_info": {
   "codemirror_mode": {
    "name": "ipython",
    "version": 3
   },
   "file_extension": ".py",
   "mimetype": "text/x-python",
   "name": "python",
   "nbconvert_exporter": "python",
   "pygments_lexer": "ipython3",
   "version": "3.12.7"
  }
 },
 "nbformat": 4,
 "nbformat_minor": 5
}
